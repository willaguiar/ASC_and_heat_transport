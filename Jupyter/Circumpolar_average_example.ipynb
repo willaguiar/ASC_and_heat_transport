{
 "cells": [
  {
   "cell_type": "code",
   "execution_count": 1,
   "id": "fc6481d9-350a-49ee-af4a-542ec01dfe95",
   "metadata": {},
   "outputs": [],
   "source": [
    "%matplotlib inline\n",
    "# Load necessary modules\n",
    "import cosima_cookbook as cc\n",
    "import matplotlib.pyplot as plt\n",
    "import numpy as np\n",
    "import netCDF4 as nc\n",
    "import cartopy.crs as ccrs\n",
    "import cartopy.feature as cfeature\n",
    "import xarray as xr\n",
    "import cmocean.cm as cmocean\n",
    "import glob\n",
    "import matplotlib.path as mpath\n",
    "import matplotlib.colors as col\n",
    "import pandas as pd\n",
    "import scipy.stats as stats\n",
    "from tqdm import tqdm\n",
    "import logging\n",
    "import matplotlib.cm as cm\n",
    "\n",
    "\n",
    "logging.captureWarnings(True)\n",
    "logging.getLogger('py.warnings').setLevel(logging.ERROR)\n",
    "\n",
    "from dask.distributed import Client\n",
    "\n",
    "figdir = '/g/data/e14/txs156/Analysis/ACCESS-OM2/Clustering/ASC_and_heat_transport/Figures/'"
   ]
  },
  {
   "cell_type": "code",
   "execution_count": null,
   "id": "1e9b1ab8-1b91-4d13-a068-004faeab2914",
   "metadata": {},
   "outputs": [],
   "source": []
  }
 ],
 "metadata": {
  "kernelspec": {
   "display_name": "Python 3 (ipykernel)",
   "language": "python",
   "name": "python3"
  },
  "language_info": {
   "codemirror_mode": {
    "name": "ipython",
    "version": 3
   },
   "file_extension": ".py",
   "mimetype": "text/x-python",
   "name": "python",
   "nbconvert_exporter": "python",
   "pygments_lexer": "ipython3",
   "version": "3.10.13"
  }
 },
 "nbformat": 4,
 "nbformat_minor": 5
}
