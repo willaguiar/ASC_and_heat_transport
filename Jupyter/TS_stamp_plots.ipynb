{
 "cells": [
  {
   "cell_type": "code",
   "execution_count": null,
   "id": "fcd57517-771c-46f3-939a-9f9af9dd7545",
   "metadata": {},
   "outputs": [],
   "source": []
  },
  {
   "cell_type": "code",
   "execution_count": null,
   "id": "5132fd0c-7a8b-432a-bc87-b57eed416815",
   "metadata": {},
   "outputs": [],
   "source": [
    "#creating the normalized age in z for visualization\n",
    "\n",
    "age_transect_z_normalized = (age_transect.mean('time')/age_transect.mean('time').max('st_ocean'))"
   ]
  }
 ],
 "metadata": {
  "kernelspec": {
   "display_name": "Python [conda env:analysis3-unstable]",
   "language": "python",
   "name": "conda-env-analysis3-unstable-py"
  },
  "language_info": {
   "codemirror_mode": {
    "name": "ipython",
    "version": 3
   },
   "file_extension": ".py",
   "mimetype": "text/x-python",
   "name": "python",
   "nbconvert_exporter": "python",
   "pygments_lexer": "ipython3",
   "version": "3.10.16"
  }
 },
 "nbformat": 4,
 "nbformat_minor": 5
}
