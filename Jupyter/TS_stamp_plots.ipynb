{
 "cells": [
  {
   "cell_type": "code",
   "execution_count": null,
   "id": "fcd57517-771c-46f3-939a-9f9af9dd7545",
   "metadata": {},
   "outputs": [],
   "source": [
    "import cosima_cookbook as cc\n",
    "import matplotlib.pyplot as plt\n",
    "import xarray as xr\n",
    "import numpy as np\n",
    "import matplotlib.gridspec as gs\n",
    "import matplotlib.cm as cm\n"
   ]
  },
  {
   "cell_type": "code",
   "execution_count": null,
   "id": "9c92d0e5-a72d-458a-9eaa-8b8b22d25f11",
   "metadata": {},
   "outputs": [],
   "source": [
    "from dask.distributed import Client\n",
    "\n",
    "client = Client(memory_limit='250gb',n_workers=48)\n",
    "client"
   ]
  },
  {
   "cell_type": "code",
   "execution_count": null,
   "id": "5ad854c6-9826-4890-81b0-d04816e49546",
   "metadata": {},
   "outputs": [],
   "source": [
    "iaf_cycle3 = '01deg_jra55v140_iaf_cycle3'\n",
    "session = cc.database.create_session('/g/data/ik11/databases/cosima_master.db')\n",
    "ylength=580"
   ]
  },
  {
   "cell_type": "code",
   "execution_count": null,
   "id": "69550fd2-3b8c-42af-b7d7-82c78c46fa38",
   "metadata": {},
   "outputs": [],
   "source": [
    "# Load CSHT field\n",
    "CSHT_along = xr.open_mfdataset('/g/data/v45/wf4500/ASC_project_files/Cross_slope_heat_transport/OM2_IAF/WMbins_daily_rho/Ant_cross_slope_heat_terms_offline_1000m_1958-01.nc')\n",
    "\n",
    "# CSHT in z space\n",
    "CSHTZC_z = xr.open_mfdataset('/g/data/v45/wf4500/ASC_project_files/Cross_slope_heat_transport/OM2_IAF/daily_z/Ant_cross_slope_heat_terms_offline_1000m_1958-01.nc')\n",
    "\n",
    "unbinned_depth_mask=CSHTZC_z.unbinned_heat_transp_across_contour.isel(time=0)\n",
    "unbinned_depth_mask = (unbinned_depth_mask.where(unbinned_depth_mask!=np.nan)*0+1)\n"
   ]
  },
  {
   "cell_type": "code",
   "execution_count": null,
   "id": "dbc8b0bc-dfe4-4559-b944-4992feb9e741",
   "metadata": {},
   "outputs": [],
   "source": [
    "%%time\n",
    "#age from the end of iaf  yle 2, to appemnd to the cycle 3\n",
    "age_transect_IC= cc.querying.getvar('01deg_jra55v140_iaf_cycle2','age_global' , session,n=-1)\\\n",
    ".isel(yt_ocean=slice(0,ylength)).isel(time=-1)\n",
    "\n",
    "age_transect_IC = age_transect_IC.sel(xt_ocean = CSHT_along.lon_along_contour,\\\n",
    "yt_ocean=CSHT_along.lat_along_contour,method='nearest') * unbinned_depth_mask\n",
    "\n",
    "age_transect_IC.load()\n",
    "\n",
    "#age \n",
    "age_transect= cc.querying.getvar(iaf_cycle3,'age_global' , session,frequency='1 monthly',chunks={}).isel(yt_ocean=slice(0,ylength))\n",
    "age_transect = age_transect.sel(xt_ocean = CSHT_along.lon_along_contour,\\\n",
    "yt_ocean=CSHT_along.lat_along_contour,method='nearest') * unbinned_depth_mask\n",
    "\n",
    "\n",
    "age_transect = age_transect  + age_transect_IC\n",
    "\n",
    "#temp\n",
    "temp_transect = cc.querying.getvar(iaf_cycle3,'temp' , session,\\\n",
    "                                        frequency='1 monthly',chunks={}).isel(yt_ocean=slice(0,ylength)) -273.25\n",
    "temp_transect = temp_transect.sel(xt_ocean = CSHT_along.lon_along_contour,\\\n",
    "yt_ocean=CSHT_along.lat_along_contour,method='nearest') * unbinned_depth_mask\n",
    "\n",
    "#salinity\n",
    "salt_transect= cc.querying.getvar(iaf_cycle3,'salt' , session,frequency='1 monthly',chunks={}).isel(yt_ocean=slice(0,ylength))\n",
    "salt_transect = salt_transect.sel(xt_ocean = CSHT_along.lon_along_contour,\\\n",
    "yt_ocean=CSHT_along.lat_along_contour,method='nearest') * unbinned_depth_mask\n",
    "\n",
    "age_transect.load()\n",
    "temp_transect.load()\n",
    "salt_transect.load()\n",
    "\n",
    "sbins = np.arange(34,35, 0.01)\n",
    "tbins = np.arange(-2, 3, 0.05)"
   ]
  },
  {
   "cell_type": "code",
   "execution_count": null,
   "id": "1cf36a43-6fb1-459e-a228-3ec12e23a82b",
   "metadata": {},
   "outputs": [],
   "source": [
    "from gsw import sigma0\n",
    "from gsw import SA_from_SP\n",
    "sbins_mesh,tbins_mesh = np.meshgrid(sbins,tbins)\n",
    "tbins_mesh  = np.where(tbins_mesh<=1.5,tbins_mesh,np.nan)\n",
    "tbins_mesh  = np.where(tbins_mesh>=-2,tbins_mesh,np.nan)\n",
    "sigma_forTS = sigma0(sbins_mesh,tbins_mesh)"
   ]
  },
  {
   "cell_type": "code",
   "execution_count": null,
   "id": "21dea456-36ce-4947-b70e-fd8c905e0312",
   "metadata": {},
   "outputs": [],
   "source": [
    "#converting salinity to absolute\n",
    "salt_depth_TS = ((salt_transect.mean('time')*0)+1) * salt_transect.mean('time').st_ocean\n",
    "salt_lon_TS = ((salt_transect.mean('time')*0)+1) * salt_transect.mean('time').xt_ocean\n",
    "salt_lat_TS = ((salt_transect.mean('time')*0)+1) * salt_transect.mean('time').yt_ocean"
   ]
  },
  {
   "cell_type": "code",
   "execution_count": null,
   "id": "de6472c3-9064-416b-bba4-a656a37350cb",
   "metadata": {},
   "outputs": [],
   "source": [
    "files_path = '/g/data/e14/qo9901/ASC_collab_CSHT_ds/'\n",
    "file_extension = 'agemaskCDW_volav_corr'\n",
    "\n",
    "ds = xr.open_dataset(files_path + 'r_sq_annual_10degBins_' + file_extension + '.nc')\n"
   ]
  },
  {
   "cell_type": "code",
   "execution_count": null,
   "id": "b67e1ad7-15fe-4a0a-adec-8ec11f409bf2",
   "metadata": {
    "scrolled": true
   },
   "outputs": [],
   "source": [
    "# %%time\n",
    "fig = plt.figure(figsize=(15,15))\n",
    "\n",
    "# Create a GridSpec for a 3x4 grid\n",
    "grid = gs.GridSpec(nrows=6, ncols=6, figure=fig)\n",
    "grid.update(hspace=0.35, wspace=0.27)  # Adjust vertical and horizontal spacing\n",
    "percentage = np.zeros(ds.lon_bins.values.size)\n",
    "for i in range(6):\n",
    "    for k in range(6):\n",
    "        j = i * 6 + k\n",
    "        print(j)\n",
    "        lon_min = ds.lon_bins.values[j]-5\n",
    "        lon_max = ds.lon_bins.values[j]+5\n",
    "    \n",
    "        Absolute_salt_TS = SA_from_SP(salt_transect.where(salt_transect.xt_ocean>=lon_min)\\\n",
    "                                      .where(salt_transect.xt_ocean<lon_max).\\\n",
    "                                      mean('time'),salt_depth_TS,salt_lon_TS,salt_lat_TS)\n",
    "        \n",
    "        mean_temp_TS = temp_transect.where(temp_transect.xt_ocean>=lon_min)\\\n",
    "                                      .where(temp_transect.xt_ocean<lon_max).mean('time')\n",
    "        #creating the normalized age in z for visualization\n",
    "        age_transect_z_normalized = (age_transect.where(temp_transect.xt_ocean>=lon_min)\\\n",
    "                                      .where(temp_transect.xt_ocean<lon_max).mean('time')\\\n",
    "                                     /age_transect.where(temp_transect.xt_ocean>=lon_min)\\\n",
    "                                      .where(temp_transect.xt_ocean<lon_max).mean('time').max('st_ocean'))\n",
    "        percentage[j] = age_transect_z_normalized.where(age_transect_z_normalized >= 0.95).count().values\\\n",
    "        /age_transect_z_normalized.count().values*100\n",
    "        \n",
    "        ax = fig.add_subplot(grid[i, k])\n",
    "    \n",
    "        TS  = ax.scatter(np.array(Absolute_salt_TS.where(age_transect_z_normalized < 0.95)).reshape([75*6002,1]),\\\n",
    "         np.array(mean_temp_TS.where(age_transect_z_normalized < 0.95)).reshape([75*6002,1]),\\\n",
    "         c=np.array(age_transect_z_normalized.where(age_transect_z_normalized < 0.95)).reshape([75*6002,1]),\\\n",
    "            marker='.')\n",
    "        ax.scatter(np.array(Absolute_salt_TS.where(age_transect_z_normalized >= 0.95)).reshape([75*6002,1]),\\\n",
    "         np.array(mean_temp_TS.where(age_transect_z_normalized >= 0.95)).reshape([75*6002,1]),\\\n",
    "         c='indianred',marker='.')\n",
    "        # sigma_surfs = ax.contour(sbins_mesh,tbins_mesh,sigma_forTS,\\\n",
    "        #                   levels=[27.1,27.2,27.3,27.4,27.5,27.6,27.7, 27.8,27.9,28],\\\n",
    "        #                   linewidth=0.5,colors='grey')\n",
    "        if k == 0:\n",
    "            ax.set_ylabel(r\"T\",fontsize=12); \n",
    "        if i == 5:\n",
    "            ax.set_xlabel(r\"S\",fontsize=12)\n",
    "        ax.set_xlim(34,35); plt.ylim(-2,1.5)\n",
    "        ax.grid()\n",
    "        # ax.set_xticks(ticks=[34,34.2,34.4,34.6,34.8])\n",
    "        # ax.set_yticks(fontsize=16)\n",
    "        # ax.clabel(sigma_surfs,levels=[27.2,27.4,27.6,27.7, 27.8,27.9,28],fontsize='x-large')\n",
    "        ax.set_title('Longitude = '+str(ds.lon_bins.values[j]),fontsize=12)\n",
    "\n",
    "# colorbar:\n",
    "sm = plt.cm.ScalarMappable(cmap=cm.viridis, norm=plt.Normalize(vmin=0, vmax = 0.95))\n",
    "\n",
    "cax = fig.add_axes([0.385,0.05,0.25,0.022])\n",
    "cbar = plt.colorbar(sm, cax=cax, orientation = 'horizontal', extend = 'neither')\n",
    "cbar.set_label(r'Normalised Age', fontsize=12, labelpad=5)\n",
    "cbar.ax.tick_params(labelsize=12)\n",
    "\n",
    "figdir = '/g/data/e14/txs156/Analysis/ACCESS-OM2/Clustering/ASC_and_heat_transport/Figures/'\n",
    "figure_path = figdir+'age_of_CDW.png'\n",
    "plt.savefig(figure_path , dpi=300,bbox_inches='tight', pad_inches=0.1,facecolor='white')"
   ]
  },
  {
   "cell_type": "code",
   "execution_count": null,
   "id": "952e5aab-8aef-40fc-8a7d-915bc5f2328a",
   "metadata": {},
   "outputs": [],
   "source": [
    "plt.plot(ds.lon_bins.values, percentage, '-o')\n",
    "plt.ylabel('Percentage of grid cells in CDW')\n",
    "plt.xlabel('Longitude Bin')\n",
    "plt.grid()\n",
    "figure_path = figdir+'percentage_of_CDW_cells.png'\n",
    "plt.savefig(figure_path , dpi=300,bbox_inches='tight', pad_inches=0.1,facecolor='white')"
   ]
  },
  {
   "cell_type": "code",
   "execution_count": null,
   "id": "79a3c0e4-5595-4032-8ff9-368cf8c63ecb",
   "metadata": {},
   "outputs": [],
   "source": [
    "percentage_da = xr.DataArray(data = percentage, dims = ds.dims, coords = ds.coords)"
   ]
  },
  {
   "cell_type": "code",
   "execution_count": null,
   "id": "652643cb-1ef3-4a6a-973b-d315f0c54811",
   "metadata": {},
   "outputs": [],
   "source": [
    "ds = xr.Dataset()\n",
    "ds['Perc_cells_in_CDW'] = percentage_da\n",
    "ds.to_netcdf('/g/data/e14/txs156/Analysis/ACCESS-OM2/Clustering/ASC_and_heat_transport/percentage_of_CDW.nc')"
   ]
  }
 ],
 "metadata": {
  "kernelspec": {
   "display_name": "Python [conda env:analysis3-unstable]",
   "language": "python",
   "name": "conda-env-analysis3-unstable-py"
  },
  "language_info": {
   "codemirror_mode": {
    "name": "ipython",
    "version": 3
   },
   "file_extension": ".py",
   "mimetype": "text/x-python",
   "name": "python",
   "nbconvert_exporter": "python",
   "pygments_lexer": "ipython3",
   "version": "3.10.16"
  }
 },
 "nbformat": 4,
 "nbformat_minor": 5
}
