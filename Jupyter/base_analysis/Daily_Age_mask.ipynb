{
 "cells": [
  {
   "cell_type": "markdown",
   "id": "32549425-abab-4eea-91ab-a395e5fbd40c",
   "metadata": {},
   "source": [
    "# Age masks for daily climatology"
   ]
  },
  {
   "cell_type": "markdown",
   "id": "f449ff5b-5efa-4688-b6e2-6c71ff701098",
   "metadata": {},
   "source": [
    "Creating a water mass mask, for the daily data. \n",
    "\n",
    "This notebook is done to develop the code. The actual final calcualtion is done through monthly submissions to the queue."
   ]
  },
  {
   "cell_type": "code",
   "execution_count": 1,
   "id": "8e7ceb6f-d1df-44e8-ab00-a9fdac5d4fdb",
   "metadata": {},
   "outputs": [],
   "source": [
    "import cosima_cookbook as cc\n",
    "import matplotlib.pyplot as plt\n",
    "import numpy as np\n",
    "import netCDF4 as nc\n",
    "import cartopy.crs as ccrs\n",
    "import cartopy.feature as cfeature\n",
    "import xarray as xr\n",
    "import cmocean.cm as cmocean\n",
    "import glob\n",
    "import matplotlib.path as mpath\n",
    "import matplotlib.colors as col\n",
    "import pandas as pd\n",
    "import scipy.stats as stats\n",
    "from tqdm import tqdm\n",
    "import logging\n",
    "import matplotlib.cm as cm\n",
    "from xhistogram.xarray import histogram\n",
    "from tqdm import tqdm\n",
    "import pandas as pd\n",
    "\n",
    "logging.captureWarnings(True)\n",
    "logging.getLogger('py.warnings').setLevel(logging.ERROR)\n",
    "\n",
    "from dask.distributed import Client\n",
    "\n",
    "figdir = '/g/data/x77/wf4500/ASC_project/analysis_figs/'"
   ]
  },
  {
   "cell_type": "code",
   "execution_count": 2,
   "id": "49dd5885-3ceb-47f3-a9cc-306faead1082",
   "metadata": {
    "scrolled": true
   },
   "outputs": [],
   "source": [
    "client = Client(n_workers=28, memory_limit='250gb')"
   ]
  },
  {
   "cell_type": "markdown",
   "id": "a0e2f7be-baf9-4236-b178-1cb012b72f8f",
   "metadata": {},
   "source": [
    "Let's import dthe daily interpolated age"
   ]
  },
  {
   "cell_type": "code",
   "execution_count": 3,
   "id": "2123323b-0895-403d-a062-29e857e52e05",
   "metadata": {
    "scrolled": true
   },
   "outputs": [],
   "source": [
    "age_interpolated = xr.open_mfdataset('/g/data/x77/wf4500/ASC_project/age_interpolated_daily/OM2_01_iaf_cycle3/age_interpolated_*.nc')\n"
   ]
  },
  {
   "cell_type": "code",
   "execution_count": 4,
   "id": "032749bc-38f3-4ac9-beb6-24fc4ffbf3d5",
   "metadata": {},
   "outputs": [],
   "source": [
    "iaf_cycle3 = '01deg_jra55v140_iaf_cycle3'\n",
    "session = cc.database.create_session('/g/data/ik11/databases/cosima_master.db')\n",
    "ylength=580"
   ]
  },
  {
   "cell_type": "markdown",
   "id": "d1077aa2-93b4-4da8-ad07-318ef0c0d2da",
   "metadata": {},
   "source": [
    "Importing density for rebinning"
   ]
  },
  {
   "cell_type": "code",
   "execution_count": 5,
   "id": "fa50bd89-4b79-42da-aea5-2d94abf04328",
   "metadata": {},
   "outputs": [
    {
     "name": "stdout",
     "output_type": "stream",
     "text": [
      "time-halo created around densities\n"
     ]
    }
   ],
   "source": [
    "#We will also need to interpoalte the density daily\n",
    "σ_3d_monthly= cc.querying.getvar(iaf_cycle3,'pot_rho_0', session,frequency='1 monthly',chunks={}).isel(yt_ocean=slice(0,ylength))\n",
    "\n",
    "#age from the end of iaf  yle 2, to appemnd to the cycle 3\n",
    "σ_IC= cc.querying.getvar('01deg_jra55v140_iaf_cycle2','pot_rho_0' , session,n=-1,chunks={})\\\n",
    ".isel(yt_ocean=slice(0,ylength)).isel(time=-1,drop=True)\n",
    "\n",
    "#age for the beggining of cycle 4 to append to data\n",
    "σ_ICf= cc.querying.getvar('01deg_jra55v140_iaf_cycle4','pot_rho_0' , session,n=0,chunks={})\\\n",
    ".isel(yt_ocean=slice(0,ylength)).isel(time=0,drop=True)\n",
    "\n",
    "\n",
    "\n",
    "\n",
    "#calculating the time edges for interpolation\n",
    "time_edge0_age = σ_3d_monthly.time.isel(time=0) - σ_3d_monthly.time.isel(time=slice(0,2)).diff('time')  #initial time for appending the halo\n",
    "time_edgef_age = σ_3d_monthly.time.isel(time=-1) +σ_3d_monthly.time.isel(time=slice(0,2)).diff('time') #final time for appending the halo\n",
    "\n",
    "#correcting the time edges for creating of the new cocated data\n",
    "σ_IC = σ_IC.expand_dims(time = time_edge0_age)\n",
    "σ_ICf = σ_ICf.expand_dims(time = time_edgef_age)\n",
    "\n",
    "\n",
    "# #creating the age var with the halo\n",
    "σ_3d_monthly = xr.concat((σ_IC,σ_3d_monthly,σ_ICf),dim = 'time')\n",
    "print('time-halo created around densities')"
   ]
  },
  {
   "cell_type": "code",
   "execution_count": 6,
   "id": "394b1740-27c7-4f73-a8b8-354a80de5c13",
   "metadata": {
    "scrolled": true
   },
   "outputs": [],
   "source": [
    "#we do not have daily σ, but we do have temperature and saolinity. So let's use that to calcualted daily densities\n",
    "T_3d_daily= cc.querying.getvar(iaf_cycle3,'temp', session,frequency='1 daily',chunks={}).isel(yt_ocean=slice(0,ylength)) - 273.15\n",
    "S_3d_daily= cc.querying.getvar(iaf_cycle3,'salt', session,frequency='1 daily',chunks={}).isel(yt_ocean=slice(0,ylength))\n"
   ]
  },
  {
   "cell_type": "markdown",
   "id": "469309eb-17f6-48a0-b572-af9855979aee",
   "metadata": {},
   "source": [
    "Converting practical to absolute salinity for posterior density calculation"
   ]
  },
  {
   "cell_type": "code",
   "execution_count": 7,
   "id": "3a074bfd-ed17-4016-b8d8-84de545fc334",
   "metadata": {},
   "outputs": [],
   "source": [
    "from gsw import sigma0, SA_from_SP, p_from_z"
   ]
  },
  {
   "cell_type": "code",
   "execution_count": 8,
   "id": "66aa22c2-ea1a-4888-a28c-857e9685c3d9",
   "metadata": {},
   "outputs": [],
   "source": [
    "#part 1, calcualting pressure \n",
    "lat_3d_daily = ((S_3d_daily*0)+1) * S_3d_daily.yt_ocean\n",
    "z_3d_daily = -((S_3d_daily*0)+1) * S_3d_daily.st_ocean\n",
    "p_3d_daily = p_from_z(z_3d_daily,lat_3d_daily)\n",
    "#part 2, calcualting absolute salinity\n",
    "lon_3d_daily = ((S_3d_daily*0)+1) * S_3d_daily.xt_ocean\n",
    "AS_3d_daily = SA_from_SP(S_3d_daily, p_3d_daily, lon_3d_daily, lat_3d_daily)"
   ]
  },
  {
   "cell_type": "markdown",
   "id": "a7d83c44-fa35-4a70-9d2b-8407f6ff01b8",
   "metadata": {},
   "source": [
    "Loop to:\n",
    "\n",
    "- [a] Calculate the daily densitites within a specification month\n",
    "- [b] create daily mask in monthly chunks and save it"
   ]
  },
  {
   "cell_type": "code",
   "execution_count": 9,
   "id": "fb787500-e0ab-4e8f-a819-1dad1e675b52",
   "metadata": {
    "scrolled": true
   },
   "outputs": [
    {
     "data": {
      "text/html": [
       "<div><svg style=\"position: absolute; width: 0; height: 0; overflow: hidden\">\n",
       "<defs>\n",
       "<symbol id=\"icon-database\" viewBox=\"0 0 32 32\">\n",
       "<path d=\"M16 0c-8.837 0-16 2.239-16 5v4c0 2.761 7.163 5 16 5s16-2.239 16-5v-4c0-2.761-7.163-5-16-5z\"></path>\n",
       "<path d=\"M16 17c-8.837 0-16-2.239-16-5v6c0 2.761 7.163 5 16 5s16-2.239 16-5v-6c0 2.761-7.163 5-16 5z\"></path>\n",
       "<path d=\"M16 26c-8.837 0-16-2.239-16-5v6c0 2.761 7.163 5 16 5s16-2.239 16-5v-6c0 2.761-7.163 5-16 5z\"></path>\n",
       "</symbol>\n",
       "<symbol id=\"icon-file-text2\" viewBox=\"0 0 32 32\">\n",
       "<path d=\"M28.681 7.159c-0.694-0.947-1.662-2.053-2.724-3.116s-2.169-2.030-3.116-2.724c-1.612-1.182-2.393-1.319-2.841-1.319h-15.5c-1.378 0-2.5 1.121-2.5 2.5v27c0 1.378 1.122 2.5 2.5 2.5h23c1.378 0 2.5-1.122 2.5-2.5v-19.5c0-0.448-0.137-1.23-1.319-2.841zM24.543 5.457c0.959 0.959 1.712 1.825 2.268 2.543h-4.811v-4.811c0.718 0.556 1.584 1.309 2.543 2.268zM28 29.5c0 0.271-0.229 0.5-0.5 0.5h-23c-0.271 0-0.5-0.229-0.5-0.5v-27c0-0.271 0.229-0.5 0.5-0.5 0 0 15.499-0 15.5 0v7c0 0.552 0.448 1 1 1h7v19.5z\"></path>\n",
       "<path d=\"M23 26h-14c-0.552 0-1-0.448-1-1s0.448-1 1-1h14c0.552 0 1 0.448 1 1s-0.448 1-1 1z\"></path>\n",
       "<path d=\"M23 22h-14c-0.552 0-1-0.448-1-1s0.448-1 1-1h14c0.552 0 1 0.448 1 1s-0.448 1-1 1z\"></path>\n",
       "<path d=\"M23 18h-14c-0.552 0-1-0.448-1-1s0.448-1 1-1h14c0.552 0 1 0.448 1 1s-0.448 1-1 1z\"></path>\n",
       "</symbol>\n",
       "</defs>\n",
       "</svg>\n",
       "<style>/* CSS stylesheet for displaying xarray objects in jupyterlab.\n",
       " *\n",
       " */\n",
       "\n",
       ":root {\n",
       "  --xr-font-color0: var(--jp-content-font-color0, rgba(0, 0, 0, 1));\n",
       "  --xr-font-color2: var(--jp-content-font-color2, rgba(0, 0, 0, 0.54));\n",
       "  --xr-font-color3: var(--jp-content-font-color3, rgba(0, 0, 0, 0.38));\n",
       "  --xr-border-color: var(--jp-border-color2, #e0e0e0);\n",
       "  --xr-disabled-color: var(--jp-layout-color3, #bdbdbd);\n",
       "  --xr-background-color: var(--jp-layout-color0, white);\n",
       "  --xr-background-color-row-even: var(--jp-layout-color1, white);\n",
       "  --xr-background-color-row-odd: var(--jp-layout-color2, #eeeeee);\n",
       "}\n",
       "\n",
       "html[theme=\"dark\"],\n",
       "html[data-theme=\"dark\"],\n",
       "body[data-theme=\"dark\"],\n",
       "body.vscode-dark {\n",
       "  --xr-font-color0: rgba(255, 255, 255, 1);\n",
       "  --xr-font-color2: rgba(255, 255, 255, 0.54);\n",
       "  --xr-font-color3: rgba(255, 255, 255, 0.38);\n",
       "  --xr-border-color: #1f1f1f;\n",
       "  --xr-disabled-color: #515151;\n",
       "  --xr-background-color: #111111;\n",
       "  --xr-background-color-row-even: #111111;\n",
       "  --xr-background-color-row-odd: #313131;\n",
       "}\n",
       "\n",
       ".xr-wrap {\n",
       "  display: block !important;\n",
       "  min-width: 300px;\n",
       "  max-width: 700px;\n",
       "}\n",
       "\n",
       ".xr-text-repr-fallback {\n",
       "  /* fallback to plain text repr when CSS is not injected (untrusted notebook) */\n",
       "  display: none;\n",
       "}\n",
       "\n",
       ".xr-header {\n",
       "  padding-top: 6px;\n",
       "  padding-bottom: 6px;\n",
       "  margin-bottom: 4px;\n",
       "  border-bottom: solid 1px var(--xr-border-color);\n",
       "}\n",
       "\n",
       ".xr-header > div,\n",
       ".xr-header > ul {\n",
       "  display: inline;\n",
       "  margin-top: 0;\n",
       "  margin-bottom: 0;\n",
       "}\n",
       "\n",
       ".xr-obj-type,\n",
       ".xr-array-name {\n",
       "  margin-left: 2px;\n",
       "  margin-right: 10px;\n",
       "}\n",
       "\n",
       ".xr-obj-type {\n",
       "  color: var(--xr-font-color2);\n",
       "}\n",
       "\n",
       ".xr-sections {\n",
       "  padding-left: 0 !important;\n",
       "  display: grid;\n",
       "  grid-template-columns: 150px auto auto 1fr 0 20px 0 20px;\n",
       "}\n",
       "\n",
       ".xr-section-item {\n",
       "  display: contents;\n",
       "}\n",
       "\n",
       ".xr-section-item input {\n",
       "  display: inline-block;\n",
       "  opacity: 0;\n",
       "  height: 0;\n",
       "}\n",
       "\n",
       ".xr-section-item input + label {\n",
       "  color: var(--xr-disabled-color);\n",
       "}\n",
       "\n",
       ".xr-section-item input:enabled + label {\n",
       "  cursor: pointer;\n",
       "  color: var(--xr-font-color2);\n",
       "}\n",
       "\n",
       ".xr-section-item input:focus + label {\n",
       "  border: 2px solid var(--xr-font-color0);\n",
       "}\n",
       "\n",
       ".xr-section-item input:enabled + label:hover {\n",
       "  color: var(--xr-font-color0);\n",
       "}\n",
       "\n",
       ".xr-section-summary {\n",
       "  grid-column: 1;\n",
       "  color: var(--xr-font-color2);\n",
       "  font-weight: 500;\n",
       "}\n",
       "\n",
       ".xr-section-summary > span {\n",
       "  display: inline-block;\n",
       "  padding-left: 0.5em;\n",
       "}\n",
       "\n",
       ".xr-section-summary-in:disabled + label {\n",
       "  color: var(--xr-font-color2);\n",
       "}\n",
       "\n",
       ".xr-section-summary-in + label:before {\n",
       "  display: inline-block;\n",
       "  content: \"►\";\n",
       "  font-size: 11px;\n",
       "  width: 15px;\n",
       "  text-align: center;\n",
       "}\n",
       "\n",
       ".xr-section-summary-in:disabled + label:before {\n",
       "  color: var(--xr-disabled-color);\n",
       "}\n",
       "\n",
       ".xr-section-summary-in:checked + label:before {\n",
       "  content: \"▼\";\n",
       "}\n",
       "\n",
       ".xr-section-summary-in:checked + label > span {\n",
       "  display: none;\n",
       "}\n",
       "\n",
       ".xr-section-summary,\n",
       ".xr-section-inline-details {\n",
       "  padding-top: 4px;\n",
       "  padding-bottom: 4px;\n",
       "}\n",
       "\n",
       ".xr-section-inline-details {\n",
       "  grid-column: 2 / -1;\n",
       "}\n",
       "\n",
       ".xr-section-details {\n",
       "  display: none;\n",
       "  grid-column: 1 / -1;\n",
       "  margin-bottom: 5px;\n",
       "}\n",
       "\n",
       ".xr-section-summary-in:checked ~ .xr-section-details {\n",
       "  display: contents;\n",
       "}\n",
       "\n",
       ".xr-array-wrap {\n",
       "  grid-column: 1 / -1;\n",
       "  display: grid;\n",
       "  grid-template-columns: 20px auto;\n",
       "}\n",
       "\n",
       ".xr-array-wrap > label {\n",
       "  grid-column: 1;\n",
       "  vertical-align: top;\n",
       "}\n",
       "\n",
       ".xr-preview {\n",
       "  color: var(--xr-font-color3);\n",
       "}\n",
       "\n",
       ".xr-array-preview,\n",
       ".xr-array-data {\n",
       "  padding: 0 5px !important;\n",
       "  grid-column: 2;\n",
       "}\n",
       "\n",
       ".xr-array-data,\n",
       ".xr-array-in:checked ~ .xr-array-preview {\n",
       "  display: none;\n",
       "}\n",
       "\n",
       ".xr-array-in:checked ~ .xr-array-data,\n",
       ".xr-array-preview {\n",
       "  display: inline-block;\n",
       "}\n",
       "\n",
       ".xr-dim-list {\n",
       "  display: inline-block !important;\n",
       "  list-style: none;\n",
       "  padding: 0 !important;\n",
       "  margin: 0;\n",
       "}\n",
       "\n",
       ".xr-dim-list li {\n",
       "  display: inline-block;\n",
       "  padding: 0;\n",
       "  margin: 0;\n",
       "}\n",
       "\n",
       ".xr-dim-list:before {\n",
       "  content: \"(\";\n",
       "}\n",
       "\n",
       ".xr-dim-list:after {\n",
       "  content: \")\";\n",
       "}\n",
       "\n",
       ".xr-dim-list li:not(:last-child):after {\n",
       "  content: \",\";\n",
       "  padding-right: 5px;\n",
       "}\n",
       "\n",
       ".xr-has-index {\n",
       "  font-weight: bold;\n",
       "}\n",
       "\n",
       ".xr-var-list,\n",
       ".xr-var-item {\n",
       "  display: contents;\n",
       "}\n",
       "\n",
       ".xr-var-item > div,\n",
       ".xr-var-item label,\n",
       ".xr-var-item > .xr-var-name span {\n",
       "  background-color: var(--xr-background-color-row-even);\n",
       "  margin-bottom: 0;\n",
       "}\n",
       "\n",
       ".xr-var-item > .xr-var-name:hover span {\n",
       "  padding-right: 5px;\n",
       "}\n",
       "\n",
       ".xr-var-list > li:nth-child(odd) > div,\n",
       ".xr-var-list > li:nth-child(odd) > label,\n",
       ".xr-var-list > li:nth-child(odd) > .xr-var-name span {\n",
       "  background-color: var(--xr-background-color-row-odd);\n",
       "}\n",
       "\n",
       ".xr-var-name {\n",
       "  grid-column: 1;\n",
       "}\n",
       "\n",
       ".xr-var-dims {\n",
       "  grid-column: 2;\n",
       "}\n",
       "\n",
       ".xr-var-dtype {\n",
       "  grid-column: 3;\n",
       "  text-align: right;\n",
       "  color: var(--xr-font-color2);\n",
       "}\n",
       "\n",
       ".xr-var-preview {\n",
       "  grid-column: 4;\n",
       "}\n",
       "\n",
       ".xr-index-preview {\n",
       "  grid-column: 2 / 5;\n",
       "  color: var(--xr-font-color2);\n",
       "}\n",
       "\n",
       ".xr-var-name,\n",
       ".xr-var-dims,\n",
       ".xr-var-dtype,\n",
       ".xr-preview,\n",
       ".xr-attrs dt {\n",
       "  white-space: nowrap;\n",
       "  overflow: hidden;\n",
       "  text-overflow: ellipsis;\n",
       "  padding-right: 10px;\n",
       "}\n",
       "\n",
       ".xr-var-name:hover,\n",
       ".xr-var-dims:hover,\n",
       ".xr-var-dtype:hover,\n",
       ".xr-attrs dt:hover {\n",
       "  overflow: visible;\n",
       "  width: auto;\n",
       "  z-index: 1;\n",
       "}\n",
       "\n",
       ".xr-var-attrs,\n",
       ".xr-var-data,\n",
       ".xr-index-data {\n",
       "  display: none;\n",
       "  background-color: var(--xr-background-color) !important;\n",
       "  padding-bottom: 5px !important;\n",
       "}\n",
       "\n",
       ".xr-var-attrs-in:checked ~ .xr-var-attrs,\n",
       ".xr-var-data-in:checked ~ .xr-var-data,\n",
       ".xr-index-data-in:checked ~ .xr-index-data {\n",
       "  display: block;\n",
       "}\n",
       "\n",
       ".xr-var-data > table {\n",
       "  float: right;\n",
       "}\n",
       "\n",
       ".xr-var-name span,\n",
       ".xr-var-data,\n",
       ".xr-index-name div,\n",
       ".xr-index-data,\n",
       ".xr-attrs {\n",
       "  padding-left: 25px !important;\n",
       "}\n",
       "\n",
       ".xr-attrs,\n",
       ".xr-var-attrs,\n",
       ".xr-var-data,\n",
       ".xr-index-data {\n",
       "  grid-column: 1 / -1;\n",
       "}\n",
       "\n",
       "dl.xr-attrs {\n",
       "  padding: 0;\n",
       "  margin: 0;\n",
       "  display: grid;\n",
       "  grid-template-columns: 125px auto;\n",
       "}\n",
       "\n",
       ".xr-attrs dt,\n",
       ".xr-attrs dd {\n",
       "  padding: 0;\n",
       "  margin: 0;\n",
       "  float: left;\n",
       "  padding-right: 10px;\n",
       "  width: auto;\n",
       "}\n",
       "\n",
       ".xr-attrs dt {\n",
       "  font-weight: normal;\n",
       "  grid-column: 1;\n",
       "}\n",
       "\n",
       ".xr-attrs dt:hover span {\n",
       "  display: inline-block;\n",
       "  background: var(--xr-background-color);\n",
       "  padding-right: 10px;\n",
       "}\n",
       "\n",
       ".xr-attrs dd {\n",
       "  grid-column: 2;\n",
       "  white-space: pre-wrap;\n",
       "  word-break: break-all;\n",
       "}\n",
       "\n",
       ".xr-icon-database,\n",
       ".xr-icon-file-text2,\n",
       ".xr-no-icon {\n",
       "  display: inline-block;\n",
       "  vertical-align: middle;\n",
       "  width: 1em;\n",
       "  height: 1.5em !important;\n",
       "  stroke-width: 0;\n",
       "  stroke: currentColor;\n",
       "  fill: currentColor;\n",
       "}\n",
       "</style><pre class='xr-text-repr-fallback'>&lt;xarray.DataArray &#x27;unbinned_heat_transp_across_contour&#x27; (st_ocean: 75,\n",
       "                                                         contour_index: 6002)&gt; Size: 2MB\n",
       "array([[ 1.,  1.,  1., ...,  1.,  1.,  1.],\n",
       "       [ 1.,  1.,  1., ...,  1.,  1.,  1.],\n",
       "       [ 1.,  1.,  1., ...,  1.,  1.,  1.],\n",
       "       ...,\n",
       "       [nan, nan, nan, ..., nan, nan, nan],\n",
       "       [nan, nan, nan, ..., nan, nan, nan],\n",
       "       [nan, nan, nan, ..., nan, nan, nan]], dtype=float32)\n",
       "Coordinates:\n",
       "  * st_ocean       (st_ocean) float64 600B 0.5413 1.681 ... 5.511e+03 5.709e+03\n",
       "  * contour_index  (contour_index) int64 48kB 1 2 3 4 5 ... 5999 6000 6001 6002\n",
       "    time           datetime64[ns] 8B 1958-01-01T12:00:00\n",
       "    TLON           (contour_index) float32 24kB 80.05 80.15 ... 79.95 79.95\n",
       "    TLAT           (contour_index) float32 24kB -66.03 -66.03 ... -66.07 -66.03\n",
       "    ULON           (contour_index) float32 24kB -279.9 -279.8 ... 80.0 80.0\n",
       "    ULAT           (contour_index) float32 24kB -66.01 -66.01 ... -66.05 -66.01</pre><div class='xr-wrap' style='display:none'><div class='xr-header'><div class='xr-obj-type'>xarray.DataArray</div><div class='xr-array-name'>'unbinned_heat_transp_across_contour'</div><ul class='xr-dim-list'><li><span class='xr-has-index'>st_ocean</span>: 75</li><li><span class='xr-has-index'>contour_index</span>: 6002</li></ul></div><ul class='xr-sections'><li class='xr-section-item'><div class='xr-array-wrap'><input id='section-43c17b6f-e4f1-47ba-ac5d-72c3ac1f63f7' class='xr-array-in' type='checkbox' checked><label for='section-43c17b6f-e4f1-47ba-ac5d-72c3ac1f63f7' title='Show/hide data repr'><svg class='icon xr-icon-database'><use xlink:href='#icon-database'></use></svg></label><div class='xr-array-preview xr-preview'><span>1.0 1.0 1.0 1.0 1.0 1.0 1.0 1.0 ... nan nan nan nan nan nan nan nan</span></div><div class='xr-array-data'><pre>array([[ 1.,  1.,  1., ...,  1.,  1.,  1.],\n",
       "       [ 1.,  1.,  1., ...,  1.,  1.,  1.],\n",
       "       [ 1.,  1.,  1., ...,  1.,  1.,  1.],\n",
       "       ...,\n",
       "       [nan, nan, nan, ..., nan, nan, nan],\n",
       "       [nan, nan, nan, ..., nan, nan, nan],\n",
       "       [nan, nan, nan, ..., nan, nan, nan]], dtype=float32)</pre></div></div></li><li class='xr-section-item'><input id='section-1eb40ee0-6ea7-4273-9b94-5befd4194697' class='xr-section-summary-in' type='checkbox'  checked><label for='section-1eb40ee0-6ea7-4273-9b94-5befd4194697' class='xr-section-summary' >Coordinates: <span>(7)</span></label><div class='xr-section-inline-details'></div><div class='xr-section-details'><ul class='xr-var-list'><li class='xr-var-item'><div class='xr-var-name'><span class='xr-has-index'>st_ocean</span></div><div class='xr-var-dims'>(st_ocean)</div><div class='xr-var-dtype'>float64</div><div class='xr-var-preview xr-preview'>0.5413 1.681 ... 5.709e+03</div><input id='attrs-486a3bba-22dd-4b4a-aa66-6bd18c8fffee' class='xr-var-attrs-in' type='checkbox' disabled><label for='attrs-486a3bba-22dd-4b4a-aa66-6bd18c8fffee' title='Show/Hide attributes'><svg class='icon xr-icon-file-text2'><use xlink:href='#icon-file-text2'></use></svg></label><input id='data-5a3686a0-ceff-43de-ab31-8514206b5ae7' class='xr-var-data-in' type='checkbox'><label for='data-5a3686a0-ceff-43de-ab31-8514206b5ae7' title='Show/Hide data repr'><svg class='icon xr-icon-database'><use xlink:href='#icon-database'></use></svg></label><div class='xr-var-attrs'><dl class='xr-attrs'></dl></div><div class='xr-var-data'><pre>array([5.412807e-01, 1.680735e+00, 2.939953e+00, 4.331522e+00, 5.869350e+00,\n",
       "       7.568810e+00, 9.446885e+00, 1.152234e+01, 1.381593e+01, 1.635055e+01,\n",
       "       1.915154e+01, 2.224687e+01, 2.566746e+01, 2.944746e+01, 3.362460e+01,\n",
       "       3.824057e+01, 4.334140e+01, 4.897796e+01, 5.520640e+01, 6.208874e+01,\n",
       "       6.969342e+01, 7.809601e+01, 8.737988e+01, 9.763699e+01, 1.089687e+02,\n",
       "       1.214869e+02, 1.353144e+02, 1.505868e+02, 1.674530e+02, 1.860765e+02,\n",
       "       2.066365e+02, 2.293296e+02, 2.543701e+02, 2.819920e+02, 3.124492e+02,\n",
       "       3.460166e+02, 3.829906e+02, 4.236883e+02, 4.684475e+02, 5.176241e+02,\n",
       "       5.715899e+02, 6.307275e+02, 6.954248e+02, 7.660668e+02, 8.430255e+02,\n",
       "       9.266482e+02, 1.017244e+03, 1.115068e+03, 1.220309e+03, 1.333076e+03,\n",
       "       1.453384e+03, 1.581154e+03, 1.716205e+03, 1.858264e+03, 2.006975e+03,\n",
       "       2.161913e+03, 2.322601e+03, 2.488533e+03, 2.659189e+03, 2.834054e+03,\n",
       "       3.012631e+03, 3.194453e+03, 3.379089e+03, 3.566145e+03, 3.755274e+03,\n",
       "       3.946166e+03, 4.138551e+03, 4.332197e+03, 4.526903e+03, 4.722497e+03,\n",
       "       4.918835e+03, 5.115794e+03, 5.313270e+03, 5.511177e+03, 5.709443e+03])</pre></div></li><li class='xr-var-item'><div class='xr-var-name'><span class='xr-has-index'>contour_index</span></div><div class='xr-var-dims'>(contour_index)</div><div class='xr-var-dtype'>int64</div><div class='xr-var-preview xr-preview'>1 2 3 4 5 ... 5999 6000 6001 6002</div><input id='attrs-f9c30716-bc36-4409-9118-a99da9f525c1' class='xr-var-attrs-in' type='checkbox' disabled><label for='attrs-f9c30716-bc36-4409-9118-a99da9f525c1' title='Show/Hide attributes'><svg class='icon xr-icon-file-text2'><use xlink:href='#icon-file-text2'></use></svg></label><input id='data-7543db25-7b97-4fdf-815a-9fcbd7d2084e' class='xr-var-data-in' type='checkbox'><label for='data-7543db25-7b97-4fdf-815a-9fcbd7d2084e' title='Show/Hide data repr'><svg class='icon xr-icon-database'><use xlink:href='#icon-database'></use></svg></label><div class='xr-var-attrs'><dl class='xr-attrs'></dl></div><div class='xr-var-data'><pre>array([   1,    2,    3, ..., 6000, 6001, 6002])</pre></div></li><li class='xr-var-item'><div class='xr-var-name'><span>time</span></div><div class='xr-var-dims'>()</div><div class='xr-var-dtype'>datetime64[ns]</div><div class='xr-var-preview xr-preview'>1958-01-01T12:00:00</div><input id='attrs-380b0971-3015-45ff-af2e-b00c28180b78' class='xr-var-attrs-in' type='checkbox' ><label for='attrs-380b0971-3015-45ff-af2e-b00c28180b78' title='Show/Hide attributes'><svg class='icon xr-icon-file-text2'><use xlink:href='#icon-file-text2'></use></svg></label><input id='data-f8848db3-8ac4-460f-9065-db07164a5141' class='xr-var-data-in' type='checkbox'><label for='data-f8848db3-8ac4-460f-9065-db07164a5141' title='Show/Hide data repr'><svg class='icon xr-icon-database'><use xlink:href='#icon-database'></use></svg></label><div class='xr-var-attrs'><dl class='xr-attrs'><dt><span>long_name :</span></dt><dd>time</dd><dt><span>calendar_type :</span></dt><dd>GREGORIAN</dd><dt><span>bounds :</span></dt><dd>time_bounds</dd><dt><span>cartesian_axis :</span></dt><dd>T</dd></dl></div><div class='xr-var-data'><pre>array(&#x27;1958-01-01T12:00:00.000000000&#x27;, dtype=&#x27;datetime64[ns]&#x27;)</pre></div></li><li class='xr-var-item'><div class='xr-var-name'><span>TLON</span></div><div class='xr-var-dims'>(contour_index)</div><div class='xr-var-dtype'>float32</div><div class='xr-var-preview xr-preview'>80.05 80.15 80.25 ... 79.95 79.95</div><input id='attrs-b9e79977-af26-454b-9ff1-15e07a8a7fa9' class='xr-var-attrs-in' type='checkbox' ><label for='attrs-b9e79977-af26-454b-9ff1-15e07a8a7fa9' title='Show/Hide attributes'><svg class='icon xr-icon-file-text2'><use xlink:href='#icon-file-text2'></use></svg></label><input id='data-e06e6a8d-672f-4544-82f9-89f76c225ab3' class='xr-var-data-in' type='checkbox'><label for='data-e06e6a8d-672f-4544-82f9-89f76c225ab3' title='Show/Hide data repr'><svg class='icon xr-icon-database'><use xlink:href='#icon-database'></use></svg></label><div class='xr-var-attrs'><dl class='xr-attrs'><dt><span>long_name :</span></dt><dd>T grid center longitude</dd><dt><span>units :</span></dt><dd>degrees_east</dd></dl></div><div class='xr-var-data'><pre>array([80.05, 80.15, 80.25, ..., 79.85, 79.95, 79.95], dtype=float32)</pre></div></li><li class='xr-var-item'><div class='xr-var-name'><span>TLAT</span></div><div class='xr-var-dims'>(contour_index)</div><div class='xr-var-dtype'>float32</div><div class='xr-var-preview xr-preview'>-66.03 -66.03 ... -66.07 -66.03</div><input id='attrs-02af986c-8b64-4460-808e-3dcb0656bada' class='xr-var-attrs-in' type='checkbox' ><label for='attrs-02af986c-8b64-4460-808e-3dcb0656bada' title='Show/Hide attributes'><svg class='icon xr-icon-file-text2'><use xlink:href='#icon-file-text2'></use></svg></label><input id='data-27759985-9d56-4477-9b97-a8d49dfba033' class='xr-var-data-in' type='checkbox'><label for='data-27759985-9d56-4477-9b97-a8d49dfba033' title='Show/Hide data repr'><svg class='icon xr-icon-database'><use xlink:href='#icon-database'></use></svg></label><div class='xr-var-attrs'><dl class='xr-attrs'><dt><span>long_name :</span></dt><dd>T grid center latitude</dd><dt><span>units :</span></dt><dd>degrees_north</dd></dl></div><div class='xr-var-data'><pre>array([-66.02918, -66.02918, -66.02918, ..., -66.07142, -66.07142,\n",
       "       -66.02918], dtype=float32)</pre></div></li><li class='xr-var-item'><div class='xr-var-name'><span>ULON</span></div><div class='xr-var-dims'>(contour_index)</div><div class='xr-var-dtype'>float32</div><div class='xr-var-preview xr-preview'>-279.9 -279.8 -279.7 ... 80.0 80.0</div><input id='attrs-666257ae-b372-4ff8-b5aa-174ec04c399d' class='xr-var-attrs-in' type='checkbox' ><label for='attrs-666257ae-b372-4ff8-b5aa-174ec04c399d' title='Show/Hide attributes'><svg class='icon xr-icon-file-text2'><use xlink:href='#icon-file-text2'></use></svg></label><input id='data-e76f299d-e26f-424d-98f6-65c9cbcd0d0d' class='xr-var-data-in' type='checkbox'><label for='data-e76f299d-e26f-424d-98f6-65c9cbcd0d0d' title='Show/Hide data repr'><svg class='icon xr-icon-database'><use xlink:href='#icon-database'></use></svg></label><div class='xr-var-attrs'><dl class='xr-attrs'><dt><span>long_name :</span></dt><dd>U grid center longitude</dd><dt><span>units :</span></dt><dd>degrees_east</dd></dl></div><div class='xr-var-data'><pre>array([-279.9, -279.8, -279.7, ...,   79.9,   80. ,   80. ], dtype=float32)</pre></div></li><li class='xr-var-item'><div class='xr-var-name'><span>ULAT</span></div><div class='xr-var-dims'>(contour_index)</div><div class='xr-var-dtype'>float32</div><div class='xr-var-preview xr-preview'>-66.01 -66.01 ... -66.05 -66.01</div><input id='attrs-11c18596-fb62-4716-8989-14ecc1d07864' class='xr-var-attrs-in' type='checkbox' ><label for='attrs-11c18596-fb62-4716-8989-14ecc1d07864' title='Show/Hide attributes'><svg class='icon xr-icon-file-text2'><use xlink:href='#icon-file-text2'></use></svg></label><input id='data-5e78b2f2-1436-4637-9134-cae1ca419067' class='xr-var-data-in' type='checkbox'><label for='data-5e78b2f2-1436-4637-9134-cae1ca419067' title='Show/Hide data repr'><svg class='icon xr-icon-database'><use xlink:href='#icon-database'></use></svg></label><div class='xr-var-attrs'><dl class='xr-attrs'><dt><span>long_name :</span></dt><dd>U grid center latitude</dd><dt><span>units :</span></dt><dd>degrees_north</dd><dt><span>comment :</span></dt><dd>Latitude of NE corner of T grid cell</dd></dl></div><div class='xr-var-data'><pre>array([-66.008064, -66.008064, -66.008064, ..., -66.0503  , -66.0503  ,\n",
       "       -66.008064], dtype=float32)</pre></div></li></ul></div></li><li class='xr-section-item'><input id='section-9083c111-0518-41e0-af18-852ce0da6aac' class='xr-section-summary-in' type='checkbox'  ><label for='section-9083c111-0518-41e0-af18-852ce0da6aac' class='xr-section-summary' >Indexes: <span>(2)</span></label><div class='xr-section-inline-details'></div><div class='xr-section-details'><ul class='xr-var-list'><li class='xr-var-item'><div class='xr-index-name'><div>st_ocean</div></div><div class='xr-index-preview'>PandasIndex</div><input type='checkbox' disabled/><label></label><input id='index-abca5afa-701c-4e5b-83bd-69b74b51adb8' class='xr-index-data-in' type='checkbox'/><label for='index-abca5afa-701c-4e5b-83bd-69b74b51adb8' title='Show/Hide index repr'><svg class='icon xr-icon-database'><use xlink:href='#icon-database'></use></svg></label><div class='xr-index-data'><pre>PandasIndex(Index([0.5412807464599609,  1.680734634399414, 2.9399526119232178,\n",
       "        4.331521511077881,  5.869350433349609,  7.568809986114502,\n",
       "        9.446885108947754, 11.522344589233398, 13.815927505493164,\n",
       "       16.350553512573242, 19.151540756225586, 22.246871948242188,\n",
       "        25.66745948791504,  29.44745635986328,  33.62459945678711,\n",
       "        38.24056625366211,  43.34140396118164, 48.977962493896484,\n",
       "        55.20640182495117,  62.08873748779297,  69.69342041015625,\n",
       "        78.09600830078125,      87.3798828125,  97.63699340820312,\n",
       "       108.96874237060547, 121.48686218261719, 135.31442260742188,\n",
       "        150.5868377685547,  167.4530029296875,  186.0764617919922,\n",
       "       206.63653564453125, 229.32957458496094, 254.37013244628906,\n",
       "        281.9919738769531, 312.44915771484375,  346.0166320800781,\n",
       "        382.9905700683594,  423.6883239746094,   468.447509765625,\n",
       "        517.6241455078125,  571.5899047851562,     630.7275390625,\n",
       "           695.4248046875,  766.0667724609375,  843.0255126953125,\n",
       "         926.648193359375, 1017.2437133789062, 1115.0679931640625,\n",
       "       1220.3094482421875, 1333.0760498046875, 1453.3843994140625,\n",
       "       1581.1536865234375, 1716.2047119140625, 1858.2640380859375,\n",
       "       2006.9752197265625,  2161.912841796875,  2322.601318359375,\n",
       "           2488.533203125,  2659.189208984375,  2834.053955078125,\n",
       "         3012.63134765625,  3194.453369140625,  3379.088623046875,\n",
       "        3566.145263671875,  3755.274169921875,     3946.166015625,\n",
       "         4138.55126953125,     4332.197265625,   4526.90283203125,\n",
       "          4722.4970703125,    4918.8349609375,    5115.7939453125,\n",
       "         5313.27001953125,   5511.17724609375,   5709.44287109375],\n",
       "      dtype=&#x27;float64&#x27;, name=&#x27;st_ocean&#x27;))</pre></div></li><li class='xr-var-item'><div class='xr-index-name'><div>contour_index</div></div><div class='xr-index-preview'>PandasIndex</div><input type='checkbox' disabled/><label></label><input id='index-56e55473-3c6d-46e5-abdf-3edcc3ffa633' class='xr-index-data-in' type='checkbox'/><label for='index-56e55473-3c6d-46e5-abdf-3edcc3ffa633' title='Show/Hide index repr'><svg class='icon xr-icon-database'><use xlink:href='#icon-database'></use></svg></label><div class='xr-index-data'><pre>PandasIndex(Index([   1,    2,    3,    4,    5,    6,    7,    8,    9,   10,\n",
       "       ...\n",
       "       5993, 5994, 5995, 5996, 5997, 5998, 5999, 6000, 6001, 6002],\n",
       "      dtype=&#x27;int64&#x27;, name=&#x27;contour_index&#x27;, length=6002))</pre></div></li></ul></div></li><li class='xr-section-item'><input id='section-cba87087-ca05-443c-9e3f-43b3a1fd7d3f' class='xr-section-summary-in' type='checkbox' disabled ><label for='section-cba87087-ca05-443c-9e3f-43b3a1fd7d3f' class='xr-section-summary'  title='Expand/collapse section'>Attributes: <span>(0)</span></label><div class='xr-section-inline-details'></div><div class='xr-section-details'><dl class='xr-attrs'></dl></div></li></ul></div></div>"
      ],
      "text/plain": [
       "<xarray.DataArray 'unbinned_heat_transp_across_contour' (st_ocean: 75,\n",
       "                                                         contour_index: 6002)> Size: 2MB\n",
       "array([[ 1.,  1.,  1., ...,  1.,  1.,  1.],\n",
       "       [ 1.,  1.,  1., ...,  1.,  1.,  1.],\n",
       "       [ 1.,  1.,  1., ...,  1.,  1.,  1.],\n",
       "       ...,\n",
       "       [nan, nan, nan, ..., nan, nan, nan],\n",
       "       [nan, nan, nan, ..., nan, nan, nan],\n",
       "       [nan, nan, nan, ..., nan, nan, nan]], dtype=float32)\n",
       "Coordinates:\n",
       "  * st_ocean       (st_ocean) float64 600B 0.5413 1.681 ... 5.511e+03 5.709e+03\n",
       "  * contour_index  (contour_index) int64 48kB 1 2 3 4 5 ... 5999 6000 6001 6002\n",
       "    time           datetime64[ns] 8B 1958-01-01T12:00:00\n",
       "    TLON           (contour_index) float32 24kB 80.05 80.15 ... 79.95 79.95\n",
       "    TLAT           (contour_index) float32 24kB -66.03 -66.03 ... -66.07 -66.03\n",
       "    ULON           (contour_index) float32 24kB -279.9 -279.8 ... 80.0 80.0\n",
       "    ULAT           (contour_index) float32 24kB -66.01 -66.01 ... -66.05 -66.01"
      ]
     },
     "execution_count": 9,
     "metadata": {},
     "output_type": "execute_result"
    }
   ],
   "source": [
    "#first, creating the Z mask so we make sure we get the right sigmas in the right locations\n",
    "CSHTZC_z = xr.open_mfdataset('/g/data/v45/wf4500/ASC_project_files/Cross_slope_heat_transport/OM2_IAF/daily_z/*')\n",
    "\n",
    "#unbinned mask\n",
    "unbinned_depth_mask=CSHTZC_z.unbinned_heat_transp_across_contour.isel(time=0)\n",
    "unbinned_depth_mask = (unbinned_depth_mask.where(unbinned_depth_mask!=np.nan)*0+1)\n",
    "unbinned_depth_mask.load()"
   ]
  },
  {
   "cell_type": "code",
   "execution_count": 10,
   "id": "c6fb536a-56e8-447e-858a-b42fb4b9235f",
   "metadata": {},
   "outputs": [],
   "source": [
    "#lighter CSHT matrix to make easier to find TS along isobath\n",
    "CSHT_along = xr.open_mfdataset('/g/data/v45/wf4500/ASC_project_files/Cross_slope_heat_transport/OM2_IAF/WMbins_daily_rho/*')\n",
    "CSHT_along = CSHT_along.isel(time=0).drop('time')"
   ]
  },
  {
   "cell_type": "code",
   "execution_count": 11,
   "id": "3a7f074c-f160-400e-b591-a8302ea2a128",
   "metadata": {},
   "outputs": [
    {
     "name": "stdout",
     "output_type": "stream",
     "text": [
      "time-halo created around zt\n"
     ]
    }
   ],
   "source": [
    "#importing dzt monthly. This will have to be interpoalted in time\n",
    "dzt_3d_monthly= cc.querying.getvar(iaf_cycle3,'dzt', session,frequency='1 monthly',chunks={}).isel(yt_ocean=slice(0,ylength))\n",
    "\n",
    "\n",
    "\n",
    "#age from the end of iaf  yle 2, to appemnd to the cycle 3\n",
    "dzt_IC= cc.querying.getvar('01deg_jra55v140_iaf_cycle2','dzt' , session,n=-1,chunks={})\\\n",
    ".isel(yt_ocean=slice(0,ylength)).isel(time=-1,drop=True)\n",
    "\n",
    "#age for the beggining of cycle 4 to append to data\n",
    "dzt_ICf= cc.querying.getvar('01deg_jra55v140_iaf_cycle4','dzt' , session,n=0,chunks={})\\\n",
    ".isel(yt_ocean=slice(0,ylength)).isel(time=0,drop=True)\n",
    "\n",
    "\n",
    "#correcting the time edges for creating of the new cocated data\n",
    "dzt_IC = dzt_IC.expand_dims(time = time_edge0_age)\n",
    "dzt_ICf = dzt_ICf.expand_dims(time = time_edgef_age)\n",
    "\n",
    "\n",
    "# #creating the age var with the halo\n",
    "dzt_3d_monthly = xr.concat((dzt_IC,dzt_3d_monthly,dzt_ICf),dim = 'time')\n",
    "print('time-halo created around zt')"
   ]
  },
  {
   "cell_type": "markdown",
   "id": "86720bc5-b96c-49a7-b42b-dd1be66fe0dc",
   "metadata": {},
   "source": [
    "Importing area along isobath to calcualte the volume for histogram weighting"
   ]
  },
  {
   "cell_type": "code",
   "execution_count": 12,
   "id": "78739386-1cac-4cd4-aa90-d984207f5fa0",
   "metadata": {},
   "outputs": [
    {
     "name": "stdout",
     "output_type": "stream",
     "text": [
      "Loaded area along the isobath\n"
     ]
    }
   ],
   "source": [
    "#area\n",
    "area = cc.querying.getvar(iaf_cycle3,'area_t' , session,n=1).isel(yt_ocean=slice(0,ylength))\n",
    "area_transect = area.sel(xt_ocean = CSHT_along.lon_along_contour,yt_ocean=CSHT_along.lat_along_contour,method='nearest') * unbinned_depth_mask\n",
    "area_transect = area_transect.drop('time')\n",
    "area_transect.load()\n",
    "print('Loaded area along the isobath')\n"
   ]
  },
  {
   "cell_type": "markdown",
   "id": "608b3bf5-78bc-44a5-abd8-c159ba1b0337",
   "metadata": {},
   "source": [
    "Getting target bins"
   ]
  },
  {
   "cell_type": "code",
   "execution_count": 13,
   "id": "0d20b348-254f-4330-a97f-ef968293e7b8",
   "metadata": {},
   "outputs": [],
   "source": [
    "rho0_contour = xr.open_dataset('/g/data/x77/wf4500/ASC_project/Post_process/rho0_along_contour.nc')\n",
    "targetbins = np.append(np.append(1020,np.append(np.arange(1023,1027,.15),\\\n",
    "                                 np.linspace(1027,rho0_contour.pot_rho_0.max().values+0.2,80))),1030)-1000"
   ]
  },
  {
   "cell_type": "markdown",
   "id": "dd054227-67d3-4081-9198-e466547526f7",
   "metadata": {},
   "source": [
    "creating $3^o$ binnng function, so the later loop for age is shorter"
   ]
  },
  {
   "cell_type": "code",
   "execution_count": 14,
   "id": "bee1f2f4-b0a1-4b84-b1a0-e2959b641624",
   "metadata": {},
   "outputs": [],
   "source": [
    "CSHT_along_fine = xr.open_mfdataset('/g/data/v45/wf4500/ASC_project_files/Cross_slope_heat_transport/OM2_IAF/daily_rho/*')"
   ]
  },
  {
   "cell_type": "code",
   "execution_count": 15,
   "id": "34535c78-db0a-4fb9-a772-bc64c2efb508",
   "metadata": {
    "jupyter": {
     "source_hidden": true
    }
   },
   "outputs": [],
   "source": [
    "def binning_age_3deg(CSHT_along, age_sigma, vol_sigma, CSHT_for_3degbinning):\n",
    "    \n",
    "    #binning into 3deg\n",
    "    bin_width = 3\n",
    "    bin_spacing = 0.25\n",
    "    lon_west = -280\n",
    "    lon_east = 80\n",
    "    \n",
    "    # new coordinate and midpoints of longitude bins:\n",
    "    full_lon_coord = np.arange(lon_west,lon_east+bin_spacing,bin_spacing)\n",
    "    lon_bin_midpoints = np.arange(lon_west+bin_width/2,lon_east-bin_width/2,bin_spacing)\n",
    "    \n",
    "    n_bin_edges = len(full_lon_coord)\n",
    "    lon_along_contour = np.array(CSHT_along.lon_along_contour)\n",
    "    lat_along_contour = np.array(CSHT_along.lat_along_contour)\n",
    "    \n",
    "    \n",
    "    bin_edge_indices = np.zeros(n_bin_edges)\n",
    "    for lon_bin in range(n_bin_edges-1):\n",
    "        # find first isobath point that has the right longitude:\n",
    "        first_point = np.where(lon_along_contour>=full_lon_coord[lon_bin])[0][0]\n",
    "        # then find all other isobath points with the same longitude as that first point:\n",
    "        same_lon_points = np.where(lon_along_contour==lon_along_contour[first_point])[0]\n",
    "        # we want the most southerly of these points on the same longitude line:\n",
    "        bin_edge_indices[lon_bin] = same_lon_points[np.argmin(lat_along_contour[same_lon_points])]\n",
    "        \n",
    "    # define east/west edges:\n",
    "    bin_edge_indices = bin_edge_indices.astype(int)\n",
    "    bin_edge_indices_west = bin_edge_indices[:-int(bin_width/bin_spacing)-1]\n",
    "    bin_edge_indices_east = bin_edge_indices[int(bin_width/bin_spacing):-1]\n",
    "    n_bins = len(bin_edge_indices_west)\n",
    "    \n",
    "    \n",
    "    lat_bin_midpoints = np.zeros(n_bins)\n",
    "    for lon_bin in range(n_bins):\n",
    "        # find nearest isobath point:\n",
    "        lon_index = np.where(lon_along_contour>=lon_bin_midpoints[lon_bin])[0][0]\n",
    "        lat_bin_midpoints[lon_bin] = lat_along_contour[lon_index]\n",
    "    \n",
    "    \n",
    "    #averaging the age along the contour, in sigma bins\n",
    "    age_sigma = age_sigma.transpose('time','sigma_bin','contour_index') #making sure the dimensions are correctly aligned for indexing\n",
    "    vol_sigma = vol_sigma.transpose('time','sigma_bin','contour_index') #making sure the dimensions are correctly aligned for indexing\n",
    "    \n",
    "    age_contour_3deg = np.zeros([age_sigma.shape[0],108,n_bins])*np.nan\n",
    "    for lon_bin in range(n_bins):\n",
    "        age_contour_3deg0 = age_sigma[:,:,bin_edge_indices_west[lon_bin]:bin_edge_indices_east[lon_bin]]\n",
    "        distance_along0 = vol_sigma[:,:,bin_edge_indices_west[lon_bin]:bin_edge_indices_east[lon_bin]]\n",
    "        #making sure we only have distances where there are values\n",
    "        distance_along0 = ((age_contour_3deg0 *0)+1) *distance_along0\n",
    "        age_contour_3deg[:,:,lon_bin] = (np.nansum(age_contour_3deg0*distance_along0,axis=2)/np.nansum(distance_along0,axis=2))\n",
    "    \n",
    "    #removing zeros\n",
    "    age_contour_3degnp = np.where(age_contour_3deg!=0,age_contour_3deg,np.nan)\n",
    "    \n",
    "    \n",
    "    #ages\n",
    "    age_contour_3deg = CSHT_for_3degbinning.binned_cross_slope_heat_trans.copy()\n",
    "    age_contour_3deg.name = 'age'\n",
    "    age_contour_3deg.values = age_contour_3degnp\n",
    "    \n",
    "    vol_sigma = vol_sigma.transpose('time','sigma_bin','contour_index') #making sure the dimensions are correctly aligned for indexing\n",
    "    \n",
    "    vol_contour_3deg = np.zeros([age_sigma.shape[0],108,n_bins])*np.nan\n",
    "    for lon_bin in range(n_bins):\n",
    "        vol_contour_3deg0 = vol_sigma[:,:,bin_edge_indices_west[lon_bin]:bin_edge_indices_east[lon_bin]]\n",
    "        vol_contour_3deg[:,:,lon_bin] = (np.nansum(vol_contour_3deg0,axis=2))\n",
    "    \n",
    "    #removing zeros\n",
    "    vol_contour_3degnp = np.where(vol_contour_3deg!=0,vol_contour_3deg,np.nan)\n",
    "    \n",
    "    #volumes_rho\n",
    "    vol_contour_3deg = CSHT_for_3degbinning.binned_cross_slope_heat_trans.copy()\n",
    "    vol_contour_3deg.name = 'Volume'\n",
    "    vol_contour_3deg.values = vol_contour_3degnp\n",
    "    \n",
    "    \n",
    "    return age_contour_3deg, vol_contour_3deg"
   ]
  },
  {
   "cell_type": "markdown",
   "id": "6c708653-beae-4c27-b445-940828a3e46a",
   "metadata": {},
   "source": [
    "Finally, running the looped operations and creating tehe age masks"
   ]
  },
  {
   "cell_type": "code",
   "execution_count": 25,
   "id": "13b1ec12-e705-43c5-91db-9bc568c288d9",
   "metadata": {
    "jupyter": {
     "source_hidden": true
    }
   },
   "outputs": [
    {
     "name": "stderr",
     "output_type": "stream",
     "text": [
      " 50%|█████     | 1/2 [04:54<04:54, 294.62s/it]"
     ]
    },
    {
     "name": "stdout",
     "output_type": "stream",
     "text": [
      "1958-01 done...\n"
     ]
    },
    {
     "name": "stderr",
     "output_type": "stream",
     "text": [
      "100%|██████████| 2/2 [09:24<00:00, 282.06s/it]"
     ]
    },
    {
     "name": "stdout",
     "output_type": "stream",
     "text": [
      "1958-02 done...\n",
      "Daily age masks created and saved\n",
      "CPU times: user 7min 42s, sys: 1min 16s, total: 8min 58s\n",
      "Wall time: 9min 24s\n"
     ]
    },
    {
     "name": "stderr",
     "output_type": "stream",
     "text": [
      "\n"
     ]
    }
   ],
   "source": [
    "%%time\n",
    "#doing the whole procedule monthly.\n",
    "savedir_ages = '/g/data/x77/wf4500/ASC_project/age_mask_daily/OM2_01_iaf_cycle3/'\n",
    "lon_bin=10\n",
    "bin_edges = np.arange(CSHTZC_z.lon_bin_midpoints[0], CSHTZC_z.lon_bin_midpoints[-1]+(lon_bin/2), lon_bin)\n",
    "lon_bin_mid = np.arange((bin_edges[0]+(lon_bin/2)),(bin_edges[-1]+(lon_bin/2)),lon_bin) # for 10-deg bins\n",
    "newlon = np.concatenate((CSHTZC_z.lon_bin_midpoints.values,np.arange(78.5,81.5,.25)), axis=0)\n",
    "longfix = xr.DataArray(newlon, coords={'lon_bin_midpoints': newlon},dims=['lon_bin_midpoints'])\n",
    "for n in tqdm(range(2,2)):\n",
    "    #print(str(n) + '-' + str((n+1) +1) + '\\n \\n')\n",
    "    σ_n = σ_3d_monthly.isel(time=slice(n,(n+3))) #getting a month before and after the year start, so the interpolation accounts for the edges\n",
    "    dzt_n = dzt_3d_monthly.isel(time=slice(n,(n+3))) #getting a month before and after the year start, so the interpolation accounts for the edges\n",
    "    start_monthly_age = σ_n.time.isel(time=0) #real start monthly age to use for interpolation\n",
    "    end_monthly_age = σ_n.time.isel(time=-1) #real end monthly age to use for interpolation\n",
    "    # #the target year is\n",
    "    target_year = str(σ_n.time.dt.year[1].values)\n",
    "    target_month = str(σ_n.time.dt.month[1].values)\n",
    "    target_start_time=target_year + '-' + target_month.zfill(2) + '-01'\n",
    "    # #creating the matrix of daily times for interpolation\n",
    "    target_daily_time = T_3d_daily.time.sel(time = target_year + '-' + target_month.zfill(2) )\n",
    "    #calculating daily σ0\n",
    "    T_n = T_3d_daily.sel(time = target_year + '-' + target_month.zfill(2) )\n",
    "    S_n = AS_3d_daily.sel(time = target_year + '-' + target_month.zfill(2) )\n",
    "    age_daily = age_interpolated.sel(time = target_year + '-' + target_month.zfill(2) )\n",
    "    #extracting values along the isobath\n",
    "    T_n = T_n.sel(xt_ocean = CSHT_along.lon_along_contour,yt_ocean=CSHT_along.lat_along_contour,method='nearest') * unbinned_depth_mask\n",
    "    S_n = S_n.sel(xt_ocean = CSHT_along.lon_along_contour,yt_ocean=CSHT_along.lat_along_contour,method='nearest') * unbinned_depth_mask\n",
    "    age_daily = age_daily.sel(xt_ocean = CSHT_along.lon_along_contour,yt_ocean=CSHT_along.lat_along_contour,method='nearest') * unbinned_depth_mask\n",
    "    CSHT_for_3degbinning = CSHT_along_fine.sel(time = target_year + '-' + target_month.zfill(2) )\n",
    "    #loading TS for faster sigma0 calculation\n",
    "    T_n.load()\n",
    "    S_n.load()\n",
    "    age_daily.load()\n",
    "    #calculating sigma0\n",
    "    σ_daily = sigma0(S_n, T_n)\n",
    "    #Converting DZT to daily, and extracting values along isobath after (conversion before to assure itnerpolaation takes into account all dimensions)\n",
    "    dzt_daily = dzt_n.interp(time = target_daily_time)\n",
    "    dzt_daily = dzt_daily.sel(xt_ocean = CSHT_along.lon_along_contour,yt_ocean=CSHT_along.lat_along_contour,method='nearest') * unbinned_depth_mask\n",
    "    dzt_daily.load()\n",
    "    #calculating the volume of each cell\n",
    "    vol_transect = area_transect * dzt_daily\n",
    "    # lets now bin the age in sigma coords through the Histogram method\n",
    "    σ_daily.name = 'sigma'\n",
    "    vol_transect.name = 'volume'\n",
    "    age_sigma = histogram(σ_daily,bins = targetbins, dim = ['st_ocean'],\\\n",
    "                          weights = age_daily.age_global*vol_transect)/\\\n",
    "    histogram(σ_daily, bins = targetbins, dim = ['st_ocean'],weights = vol_transect)\n",
    "    vol_sigma = histogram(σ_daily, bins = targetbins, dim = ['st_ocean'],weights = vol_transect)\n",
    "    #binning sigma age in 3 degrees bins\n",
    "    age_sigma_3deg, vol_sigma_3deg= binning_age_3deg(CSHT_along, age_sigma, vol_sigma, CSHT_for_3degbinning)\n",
    "    #Binning everything now into 10 degree bins\n",
    "    #FIRST VOLUME\n",
    "    vol_contour_3deg_halo = xr.concat([vol_sigma_3deg,vol_sigma_3deg.isel(lon_bin_midpoints=slice(0,12))], dim='lon_bin_midpoints')\n",
    "    vol_contour_3deg_halo['lon_bin_midpoints'] = longfix\n",
    "    vol_10deg_binned = vol_contour_3deg_halo.groupby_bins('lon_bin_midpoints', bins=bin_edges).sum('lon_bin_midpoints')\n",
    "    #NOW AGE\n",
    "    age_contour_3deg_halo = xr.concat([age_sigma_3deg,age_sigma_3deg.isel(lon_bin_midpoints=slice(0,12))], dim='lon_bin_midpoints')\n",
    "    age_contour_3deg_halo['lon_bin_midpoints'] = longfix\n",
    "    age_contour_3deg_halo = age_contour_3deg_halo* vol_contour_3deg_halo #contour density multiplied by the volume in z coordinates\n",
    "    age_10deg_binned = age_contour_3deg_halo.groupby_bins('lon_bin_midpoints', bins=bin_edges).sum('lon_bin_midpoints') /\\\n",
    "    vol_contour_3deg_halo.groupby_bins('lon_bin_midpoints', bins=bin_edges).sum('lon_bin_midpoints')\n",
    "    #normalizing age to create mask\n",
    "    age_10deg_binned_normalized = age_10deg_binned/age_10deg_binned.max('potrho0')\n",
    "    # creating age -based mask for CDW, AASW and DSW\n",
    "    normlimit = 0.95\n",
    "    CDW_age_mask = ((age_10deg_binned_normalized.where(age_10deg_binned_normalized>normlimit)*0)+1)\n",
    "    AASW_age_mask= CDW_age_mask.bfill('potrho0') - CDW_age_mask.fillna(0)\n",
    "    AASW_age_mask = AASW_age_mask.where(AASW_age_mask>0)\n",
    "    DSW_age_mask = (AASW_age_mask.fillna(0)*4) + (CDW_age_mask.fillna(0)*4) + CDW_age_mask.fillna(1)\n",
    "    DSW_age_mask = DSW_age_mask.where(DSW_age_mask<2)\n",
    "    #some renaming to make things easier\n",
    "    AASW_age_mask_10degbins = AASW_age_mask.rename({'lon_bin_midpoints_bins':'lon_bins'})\n",
    "    CDW_age_mask_10degbins = CDW_age_mask.rename({'lon_bin_midpoints_bins':'lon_bins'})\n",
    "    DSW_age_mask_10degbins = DSW_age_mask.rename({'lon_bin_midpoints_bins':'lon_bins'})\n",
    "    #some renaming and binning correction prior to saving\n",
    "    AASW_age_mask_10degbins.name='AASW_mask'\n",
    "    AASW_age_mask_10degbins['lon_bins'] = lon_bin_mid\n",
    "    CDW_age_mask_10degbins.name='CDW_mask'\n",
    "    CDW_age_mask_10degbins['lon_bins'] = lon_bin_mid\n",
    "    DSW_age_mask_10degbins.name='DSW_mask'\n",
    "    DSW_age_mask_10degbins['lon_bins'] = lon_bin_mid\n",
    "    # # #saving the interpolated age data\n",
    "    CDW_age_mask_10degbins.to_netcdf(savedir_ages + 'CDW_' +  target_year + '-' + target_month.zfill(2) +'.nc')\n",
    "    AASW_age_mask_10degbins.to_netcdf(savedir_ages + 'AASW_' +  target_year + '-' + target_month.zfill(2) +'.nc')\n",
    "    DSW_age_mask_10degbins.to_netcdf(savedir_ages + 'DSW_' +  target_year + '-' + target_month.zfill(2) +'.nc')\n",
    "    print(target_year + '-' + target_month.zfill(2) + ' done...')\n",
    "print('Daily age masks created and saved')\n",
    "\n",
    "\n"
   ]
  },
  {
   "cell_type": "markdown",
   "id": "39b060fc-d5b7-4649-b014-d204e6ee053c",
   "metadata": {},
   "source": [
    "### Sanity check"
   ]
  },
  {
   "cell_type": "code",
   "execution_count": 20,
   "id": "744713ba-42e4-4837-b58e-f938b7d9c679",
   "metadata": {},
   "outputs": [
    {
     "data": {
      "text/plain": [
       "(22280, 75, 580, 3600)"
      ]
     },
     "execution_count": 20,
     "metadata": {},
     "output_type": "execute_result"
    }
   ],
   "source": [
    "savedir_ages = '/g/data/x77/wf4500/ASC_project/age_interpolated_daily/OM2_01_iaf_cycle3/'\n",
    "daily_age =  xr.open_mfdataset(savedir_ages + 'age_interpolated*.nc')\n",
    "daily_age.age_global.shape"
   ]
  },
  {
   "cell_type": "markdown",
   "id": "32ed7efb-a026-4a8b-8bef-fac17ab8eb65",
   "metadata": {},
   "source": [
    "We have the right number of days"
   ]
  },
  {
   "cell_type": "code",
   "execution_count": 16,
   "id": "8d564fbc-ed9d-4215-9061-425788ccac4f",
   "metadata": {},
   "outputs": [
    {
     "name": "stdout",
     "output_type": "stream",
     "text": [
      "CPU times: user 59.4 s, sys: 16 s, total: 1min 15s\n",
      "Wall time: 1min 51s\n"
     ]
    }
   ],
   "source": [
    "%%time\n",
    "savedir_age_mask = '/g/data/x77/wf4500/ASC_project/age_mask_daily/OM2_01_iaf_cycle3/'\n",
    "CDW_Age_masks_daily = xr.open_mfdataset(savedir_age_mask + 'CDW*.nc').CDW_mask\n",
    "AASW_Age_masks_daily = xr.open_mfdataset(savedir_age_mask+ 'AASW*.nc').AASW_mask\n",
    "DSW_Age_masks_daily = xr.open_mfdataset(savedir_age_mask + 'DSW*.nc').DSW_mask"
   ]
  },
  {
   "cell_type": "markdown",
   "id": "eb212bbf-4ca9-4082-904b-734a6c073f5f",
   "metadata": {},
   "source": [
    "Do definitions overlap at any time? Let's randomly sample it to check it"
   ]
  },
  {
   "cell_type": "code",
   "execution_count": 30,
   "id": "31855fa7-8515-48db-bdb8-477a25c62c29",
   "metadata": {},
   "outputs": [
    {
     "data": {
      "text/plain": [
       "[<matplotlib.axis.YTick at 0x145a1e480940>,\n",
       " <matplotlib.axis.YTick at 0x145a1e925570>,\n",
       " <matplotlib.axis.YTick at 0x145c3ee473a0>]"
      ]
     },
     "execution_count": 30,
     "metadata": {},
     "output_type": "execute_result"
    },
    {
     "data": {
      "image/png": "[encoded data removed]",
      "text/plain": [
       "<Figure size 640x480 with 2 Axes>"
      ]
     },
     "metadata": {},
     "output_type": "display_data"
    }
   ],
   "source": [
    "#example of water mass distribution in a specific time\n",
    "timeind=22000\n",
    "(CDW_Age_masks_daily.isel(time=timeind)*2).plot(y='potrho0',vmin=1,vmax=3,add_colorbar=False,alpha=0.7)\n",
    "DSW_Age_masks_daily.isel(time=timeind).plot(y='potrho0',vmin=1,vmax=3,add_colorbar=False,alpha=0.7)\n",
    "AASW_plot = (AASW_Age_masks_daily.isel(time=timeind)*3).plot(y='potrho0',vmin=1,vmax=3,add_colorbar=False,alpha=0.7)\n",
    "plt.ylim(27.95,27.6);\n",
    "cbar = plt.colorbar(AASW_plot)\n",
    "cbar.ax.set_yticks(ticks=[1,2,3],labels=['DSW','CDW','AASW'])"
   ]
  },
  {
   "cell_type": "markdown",
   "id": "644d3664-1304-47ef-b6a6-0b051810772f",
   "metadata": {},
   "source": [
    "Plot above was tested across different tmes, and we can see that waters definition never overlap"
   ]
  }
 ],
 "metadata": {
  "kernelspec": {
   "display_name": "Python [conda env:analysis3-unstable]",
   "language": "python",
   "name": "conda-env-analysis3-unstable-py"
  },
  "language_info": {
   "codemirror_mode": {
    "name": "ipython",
    "version": 3
   },
   "file_extension": ".py",
   "mimetype": "text/x-python",
   "name": "python",
   "nbconvert_exporter": "python",
   "pygments_lexer": "ipython3",
   "version": "3.10.16"
  }
 },
 "nbformat": 4,
 "nbformat_minor": 5
}
